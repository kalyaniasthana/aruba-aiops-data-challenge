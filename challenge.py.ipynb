{
 "cells": [
  {
   "cell_type": "code",
   "execution_count": 1,
   "id": "democratic-sellers",
   "metadata": {},
   "outputs": [],
   "source": [
    "import matplotlib.pyplot as plt\n",
    "import numpy as np\n",
    "import pandas as pd"
   ]
  },
  {
   "cell_type": "code",
   "execution_count": 2,
   "id": "brief-serial",
   "metadata": {},
   "outputs": [],
   "source": [
    "np.random.seed(42)"
   ]
  },
  {
   "cell_type": "code",
   "execution_count": 3,
   "id": "alien-graphic",
   "metadata": {},
   "outputs": [],
   "source": [
    "from sklearn.model_selection import train_test_split, cross_val_score, cross_val_predict, GridSearchCV\n",
    "from sklearn.linear_model import LinearRegression\n",
    "from sklearn.metrics import accuracy_score"
   ]
  },
  {
   "cell_type": "code",
   "execution_count": 4,
   "id": "reliable-footwear",
   "metadata": {},
   "outputs": [],
   "source": [
    "import tensorflow as tf\n",
    "from tensorflow import keras"
   ]
  },
  {
   "cell_type": "code",
   "execution_count": 12,
   "id": "independent-column",
   "metadata": {},
   "outputs": [],
   "source": [
    "df1 = pd.read_csv('dc_signal_strength.csv')"
   ]
  },
  {
   "cell_type": "code",
   "execution_count": 13,
   "id": "alternative-pillow",
   "metadata": {},
   "outputs": [
    {
     "data": {
      "text/html": [
       "<div>\n",
       "<style scoped>\n",
       "    .dataframe tbody tr th:only-of-type {\n",
       "        vertical-align: middle;\n",
       "    }\n",
       "\n",
       "    .dataframe tbody tr th {\n",
       "        vertical-align: top;\n",
       "    }\n",
       "\n",
       "    .dataframe thead th {\n",
       "        text-align: right;\n",
       "    }\n",
       "</style>\n",
       "<table border=\"1\" class=\"dataframe\">\n",
       "  <thead>\n",
       "    <tr style=\"text-align: right;\">\n",
       "      <th></th>\n",
       "      <th>iPad ID</th>\n",
       "      <th>Access Point ID</th>\n",
       "      <th>Signal Strength</th>\n",
       "    </tr>\n",
       "  </thead>\n",
       "  <tbody>\n",
       "    <tr>\n",
       "      <th>0</th>\n",
       "      <td>0452f3638d1a</td>\n",
       "      <td>b45d50f656d0</td>\n",
       "      <td>43</td>\n",
       "    </tr>\n",
       "    <tr>\n",
       "      <th>1</th>\n",
       "      <td>0452f3638d1a</td>\n",
       "      <td>b45d50f656d0</td>\n",
       "      <td>43</td>\n",
       "    </tr>\n",
       "    <tr>\n",
       "      <th>2</th>\n",
       "      <td>0452f3638d1a</td>\n",
       "      <td>b45d50f656d0</td>\n",
       "      <td>43</td>\n",
       "    </tr>\n",
       "    <tr>\n",
       "      <th>3</th>\n",
       "      <td>0452f3638d1a</td>\n",
       "      <td>b45d50f656d0</td>\n",
       "      <td>43</td>\n",
       "    </tr>\n",
       "    <tr>\n",
       "      <th>4</th>\n",
       "      <td>0452f3638d1a</td>\n",
       "      <td>b45d50f656d0</td>\n",
       "      <td>43</td>\n",
       "    </tr>\n",
       "  </tbody>\n",
       "</table>\n",
       "</div>"
      ],
      "text/plain": [
       "        iPad ID Access Point ID  Signal Strength\n",
       "0  0452f3638d1a    b45d50f656d0               43\n",
       "1  0452f3638d1a    b45d50f656d0               43\n",
       "2  0452f3638d1a    b45d50f656d0               43\n",
       "3  0452f3638d1a    b45d50f656d0               43\n",
       "4  0452f3638d1a    b45d50f656d0               43"
      ]
     },
     "execution_count": 13,
     "metadata": {},
     "output_type": "execute_result"
    }
   ],
   "source": [
    "df1.head()"
   ]
  },
  {
   "cell_type": "code",
   "execution_count": 14,
   "id": "satisfactory-pollution",
   "metadata": {},
   "outputs": [],
   "source": [
    "df2 = pd.read_csv('dc_ipads.csv')"
   ]
  },
  {
   "cell_type": "code",
   "execution_count": 15,
   "id": "suspected-defendant",
   "metadata": {},
   "outputs": [
    {
     "data": {
      "text/html": [
       "<div>\n",
       "<style scoped>\n",
       "    .dataframe tbody tr th:only-of-type {\n",
       "        vertical-align: middle;\n",
       "    }\n",
       "\n",
       "    .dataframe tbody tr th {\n",
       "        vertical-align: top;\n",
       "    }\n",
       "\n",
       "    .dataframe thead th {\n",
       "        text-align: right;\n",
       "    }\n",
       "</style>\n",
       "<table border=\"1\" class=\"dataframe\">\n",
       "  <thead>\n",
       "    <tr style=\"text-align: right;\">\n",
       "      <th></th>\n",
       "      <th>iPad Name</th>\n",
       "      <th>iPad ID</th>\n",
       "      <th>iPad x</th>\n",
       "      <th>iPad y</th>\n",
       "      <th>Floor</th>\n",
       "    </tr>\n",
       "  </thead>\n",
       "  <tbody>\n",
       "    <tr>\n",
       "      <th>0</th>\n",
       "      <td>Big Sur</td>\n",
       "      <td>0452f3638d1a</td>\n",
       "      <td>3.0</td>\n",
       "      <td>49.2</td>\n",
       "      <td>3</td>\n",
       "    </tr>\n",
       "    <tr>\n",
       "      <th>1</th>\n",
       "      <td>Lake Shasta</td>\n",
       "      <td>0452f36388d5</td>\n",
       "      <td>10.0</td>\n",
       "      <td>40.8</td>\n",
       "      <td>3</td>\n",
       "    </tr>\n",
       "    <tr>\n",
       "      <th>2</th>\n",
       "      <td>Santa Beach</td>\n",
       "      <td>0452f3670522</td>\n",
       "      <td>20.3</td>\n",
       "      <td>40.8</td>\n",
       "      <td>3</td>\n",
       "    </tr>\n",
       "    <tr>\n",
       "      <th>3</th>\n",
       "      <td>Pismo Beach</td>\n",
       "      <td>0452f3640b3e</td>\n",
       "      <td>21.1</td>\n",
       "      <td>30.0</td>\n",
       "      <td>3</td>\n",
       "    </tr>\n",
       "    <tr>\n",
       "      <th>4</th>\n",
       "      <td>Malibu</td>\n",
       "      <td>0452f3696eed</td>\n",
       "      <td>24.0</td>\n",
       "      <td>40.8</td>\n",
       "      <td>3</td>\n",
       "    </tr>\n",
       "  </tbody>\n",
       "</table>\n",
       "</div>"
      ],
      "text/plain": [
       "     iPad Name       iPad ID  iPad x  iPad y  Floor\n",
       "0      Big Sur  0452f3638d1a     3.0    49.2      3\n",
       "1  Lake Shasta  0452f36388d5    10.0    40.8      3\n",
       "2  Santa Beach  0452f3670522    20.3    40.8      3\n",
       "3  Pismo Beach  0452f3640b3e    21.1    30.0      3\n",
       "4       Malibu  0452f3696eed    24.0    40.8      3"
      ]
     },
     "execution_count": 15,
     "metadata": {},
     "output_type": "execute_result"
    }
   ],
   "source": [
    "df2.head()"
   ]
  },
  {
   "cell_type": "code",
   "execution_count": 16,
   "id": "copyrighted-graduation",
   "metadata": {},
   "outputs": [],
   "source": [
    "df3 = pd.read_csv('dc_ap_locations.csv')"
   ]
  },
  {
   "cell_type": "code",
   "execution_count": 17,
   "id": "mechanical-desktop",
   "metadata": {},
   "outputs": [
    {
     "data": {
      "text/html": [
       "<div>\n",
       "<style scoped>\n",
       "    .dataframe tbody tr th:only-of-type {\n",
       "        vertical-align: middle;\n",
       "    }\n",
       "\n",
       "    .dataframe tbody tr th {\n",
       "        vertical-align: top;\n",
       "    }\n",
       "\n",
       "    .dataframe thead th {\n",
       "        text-align: right;\n",
       "    }\n",
       "</style>\n",
       "<table border=\"1\" class=\"dataframe\">\n",
       "  <thead>\n",
       "    <tr style=\"text-align: right;\">\n",
       "      <th></th>\n",
       "      <th>Access Point ID</th>\n",
       "      <th>Access Point x</th>\n",
       "      <th>Access Point y</th>\n",
       "    </tr>\n",
       "  </thead>\n",
       "  <tbody>\n",
       "    <tr>\n",
       "      <th>0</th>\n",
       "      <td>b45d50f656d0</td>\n",
       "      <td>2.725522</td>\n",
       "      <td>43.234657</td>\n",
       "    </tr>\n",
       "    <tr>\n",
       "      <th>1</th>\n",
       "      <td>b45d50f65730</td>\n",
       "      <td>25.640387</td>\n",
       "      <td>42.366589</td>\n",
       "    </tr>\n",
       "    <tr>\n",
       "      <th>2</th>\n",
       "      <td>b45d50f64a90</td>\n",
       "      <td>25.388924</td>\n",
       "      <td>18.573597</td>\n",
       "    </tr>\n",
       "    <tr>\n",
       "      <th>3</th>\n",
       "      <td>b45d50f66510</td>\n",
       "      <td>48.534828</td>\n",
       "      <td>35.651848</td>\n",
       "    </tr>\n",
       "    <tr>\n",
       "      <th>4</th>\n",
       "      <td>b45d50f80750</td>\n",
       "      <td>39.702026</td>\n",
       "      <td>50.005184</td>\n",
       "    </tr>\n",
       "  </tbody>\n",
       "</table>\n",
       "</div>"
      ],
      "text/plain": [
       "  Access Point ID  Access Point x  Access Point y\n",
       "0    b45d50f656d0        2.725522       43.234657\n",
       "1    b45d50f65730       25.640387       42.366589\n",
       "2    b45d50f64a90       25.388924       18.573597\n",
       "3    b45d50f66510       48.534828       35.651848\n",
       "4    b45d50f80750       39.702026       50.005184"
      ]
     },
     "execution_count": 17,
     "metadata": {},
     "output_type": "execute_result"
    }
   ],
   "source": [
    "df3.head()"
   ]
  },
  {
   "cell_type": "code",
   "execution_count": 76,
   "id": "hybrid-mauritius",
   "metadata": {},
   "outputs": [],
   "source": [
    "merge1 = pd.merge(df1, df2, how='outer', on='iPad ID')"
   ]
  },
  {
   "cell_type": "code",
   "execution_count": 78,
   "id": "incredible-syndrome",
   "metadata": {},
   "outputs": [
    {
     "data": {
      "text/html": [
       "<div>\n",
       "<style scoped>\n",
       "    .dataframe tbody tr th:only-of-type {\n",
       "        vertical-align: middle;\n",
       "    }\n",
       "\n",
       "    .dataframe tbody tr th {\n",
       "        vertical-align: top;\n",
       "    }\n",
       "\n",
       "    .dataframe thead th {\n",
       "        text-align: right;\n",
       "    }\n",
       "</style>\n",
       "<table border=\"1\" class=\"dataframe\">\n",
       "  <thead>\n",
       "    <tr style=\"text-align: right;\">\n",
       "      <th></th>\n",
       "      <th>iPad ID</th>\n",
       "      <th>Access Point ID</th>\n",
       "      <th>Signal Strength</th>\n",
       "      <th>iPad Name</th>\n",
       "      <th>iPad x</th>\n",
       "      <th>iPad y</th>\n",
       "      <th>Floor</th>\n",
       "    </tr>\n",
       "  </thead>\n",
       "  <tbody>\n",
       "    <tr>\n",
       "      <th>20684</th>\n",
       "      <td>0452f3640b3e</td>\n",
       "      <td>NaN</td>\n",
       "      <td>NaN</td>\n",
       "      <td>Pismo Beach</td>\n",
       "      <td>21.1</td>\n",
       "      <td>30.0</td>\n",
       "      <td>3</td>\n",
       "    </tr>\n",
       "  </tbody>\n",
       "</table>\n",
       "</div>"
      ],
      "text/plain": [
       "            iPad ID Access Point ID  Signal Strength    iPad Name  iPad x  \\\n",
       "20684  0452f3640b3e             NaN              NaN  Pismo Beach    21.1   \n",
       "\n",
       "       iPad y  Floor  \n",
       "20684    30.0      3  "
      ]
     },
     "execution_count": 78,
     "metadata": {},
     "output_type": "execute_result"
    }
   ],
   "source": [
    "merge1.tail(1)"
   ]
  },
  {
   "cell_type": "code",
   "execution_count": 40,
   "id": "fabulous-diamond",
   "metadata": {},
   "outputs": [],
   "source": [
    "merge2 = pd.merge(merge1, df3, how='inner', on='Access Point ID')"
   ]
  },
  {
   "cell_type": "code",
   "execution_count": 41,
   "id": "approximate-tracy",
   "metadata": {},
   "outputs": [
    {
     "data": {
      "text/plain": [
       "(20684, 9)"
      ]
     },
     "execution_count": 41,
     "metadata": {},
     "output_type": "execute_result"
    }
   ],
   "source": [
    "merge2.shape"
   ]
  },
  {
   "cell_type": "code",
   "execution_count": 42,
   "id": "square-bahrain",
   "metadata": {},
   "outputs": [
    {
     "data": {
      "text/html": [
       "<div>\n",
       "<style scoped>\n",
       "    .dataframe tbody tr th:only-of-type {\n",
       "        vertical-align: middle;\n",
       "    }\n",
       "\n",
       "    .dataframe tbody tr th {\n",
       "        vertical-align: top;\n",
       "    }\n",
       "\n",
       "    .dataframe thead th {\n",
       "        text-align: right;\n",
       "    }\n",
       "</style>\n",
       "<table border=\"1\" class=\"dataframe\">\n",
       "  <thead>\n",
       "    <tr style=\"text-align: right;\">\n",
       "      <th></th>\n",
       "      <th>Signal Strength</th>\n",
       "      <th>iPad x</th>\n",
       "      <th>iPad y</th>\n",
       "      <th>Floor</th>\n",
       "      <th>Access Point x</th>\n",
       "      <th>Access Point y</th>\n",
       "    </tr>\n",
       "  </thead>\n",
       "  <tbody>\n",
       "    <tr>\n",
       "      <th>count</th>\n",
       "      <td>20684.000000</td>\n",
       "      <td>20684.000000</td>\n",
       "      <td>20684.000000</td>\n",
       "      <td>20684.0</td>\n",
       "      <td>20684.000000</td>\n",
       "      <td>20684.000000</td>\n",
       "    </tr>\n",
       "    <tr>\n",
       "      <th>mean</th>\n",
       "      <td>19.189083</td>\n",
       "      <td>58.279167</td>\n",
       "      <td>30.561594</td>\n",
       "      <td>3.0</td>\n",
       "      <td>55.499434</td>\n",
       "      <td>31.294047</td>\n",
       "    </tr>\n",
       "    <tr>\n",
       "      <th>std</th>\n",
       "      <td>10.037828</td>\n",
       "      <td>30.037094</td>\n",
       "      <td>10.428007</td>\n",
       "      <td>0.0</td>\n",
       "      <td>26.181892</td>\n",
       "      <td>13.342980</td>\n",
       "    </tr>\n",
       "    <tr>\n",
       "      <th>min</th>\n",
       "      <td>6.000000</td>\n",
       "      <td>3.000000</td>\n",
       "      <td>7.600000</td>\n",
       "      <td>3.0</td>\n",
       "      <td>2.725522</td>\n",
       "      <td>6.743395</td>\n",
       "    </tr>\n",
       "    <tr>\n",
       "      <th>25%</th>\n",
       "      <td>9.000000</td>\n",
       "      <td>24.000000</td>\n",
       "      <td>20.600000</td>\n",
       "      <td>3.0</td>\n",
       "      <td>39.361263</td>\n",
       "      <td>18.573597</td>\n",
       "    </tr>\n",
       "    <tr>\n",
       "      <th>50%</th>\n",
       "      <td>18.000000</td>\n",
       "      <td>67.000000</td>\n",
       "      <td>28.800000</td>\n",
       "      <td>3.0</td>\n",
       "      <td>59.658199</td>\n",
       "      <td>29.453739</td>\n",
       "    </tr>\n",
       "    <tr>\n",
       "      <th>75%</th>\n",
       "      <td>25.000000</td>\n",
       "      <td>85.800000</td>\n",
       "      <td>40.800000</td>\n",
       "      <td>3.0</td>\n",
       "      <td>77.493568</td>\n",
       "      <td>42.366589</td>\n",
       "    </tr>\n",
       "    <tr>\n",
       "      <th>max</th>\n",
       "      <td>45.000000</td>\n",
       "      <td>89.900000</td>\n",
       "      <td>49.200000</td>\n",
       "      <td>3.0</td>\n",
       "      <td>90.572845</td>\n",
       "      <td>55.907330</td>\n",
       "    </tr>\n",
       "  </tbody>\n",
       "</table>\n",
       "</div>"
      ],
      "text/plain": [
       "       Signal Strength        iPad x        iPad y    Floor  Access Point x  \\\n",
       "count     20684.000000  20684.000000  20684.000000  20684.0    20684.000000   \n",
       "mean         19.189083     58.279167     30.561594      3.0       55.499434   \n",
       "std          10.037828     30.037094     10.428007      0.0       26.181892   \n",
       "min           6.000000      3.000000      7.600000      3.0        2.725522   \n",
       "25%           9.000000     24.000000     20.600000      3.0       39.361263   \n",
       "50%          18.000000     67.000000     28.800000      3.0       59.658199   \n",
       "75%          25.000000     85.800000     40.800000      3.0       77.493568   \n",
       "max          45.000000     89.900000     49.200000      3.0       90.572845   \n",
       "\n",
       "       Access Point y  \n",
       "count    20684.000000  \n",
       "mean        31.294047  \n",
       "std         13.342980  \n",
       "min          6.743395  \n",
       "25%         18.573597  \n",
       "50%         29.453739  \n",
       "75%         42.366589  \n",
       "max         55.907330  "
      ]
     },
     "execution_count": 42,
     "metadata": {},
     "output_type": "execute_result"
    }
   ],
   "source": [
    "merge2.describe()"
   ]
  },
  {
   "cell_type": "code",
   "execution_count": 43,
   "id": "leading-mistake",
   "metadata": {},
   "outputs": [
    {
     "data": {
      "text/plain": [
       "16"
      ]
     },
     "execution_count": 43,
     "metadata": {},
     "output_type": "execute_result"
    }
   ],
   "source": [
    "len(list(set(merge2['iPad ID'])))"
   ]
  },
  {
   "cell_type": "code",
   "execution_count": 44,
   "id": "secret-highlight",
   "metadata": {},
   "outputs": [
    {
     "data": {
      "text/plain": [
       "37"
      ]
     },
     "execution_count": 44,
     "metadata": {},
     "output_type": "execute_result"
    }
   ],
   "source": [
    "len(list(set(merge2['Access Point ID'])))"
   ]
  },
  {
   "cell_type": "markdown",
   "id": "minus-egyptian",
   "metadata": {},
   "source": [
    "Checking if 0452f360ef9f ipad id is in merge2"
   ]
  },
  {
   "cell_type": "code",
   "execution_count": 45,
   "id": "rural-blake",
   "metadata": {},
   "outputs": [
    {
     "data": {
      "text/plain": [
       "False"
      ]
     },
     "execution_count": 45,
     "metadata": {},
     "output_type": "execute_result"
    }
   ],
   "source": [
    "'0452f360ef9f' in merge2['iPad ID']"
   ]
  },
  {
   "cell_type": "code",
   "execution_count": 46,
   "id": "interim-creature",
   "metadata": {},
   "outputs": [
    {
     "data": {
      "text/plain": [
       "16"
      ]
     },
     "execution_count": 46,
     "metadata": {},
     "output_type": "execute_result"
    }
   ],
   "source": [
    "len(list(set(merge2['iPad Name'])))"
   ]
  },
  {
   "cell_type": "code",
   "execution_count": 47,
   "id": "invalid-helena",
   "metadata": {},
   "outputs": [],
   "source": [
    "from sklearn.tree import DecisionTreeRegressor"
   ]
  },
  {
   "cell_type": "code",
   "execution_count": 48,
   "id": "functioning-reserve",
   "metadata": {},
   "outputs": [],
   "source": [
    "X = merge2[['Signal Strength', 'Access Point x', 'Access Point y']]\n",
    "y1 = merge2[['iPad x']]\n",
    "y2 = merge2[['iPad y']]"
   ]
  },
  {
   "cell_type": "code",
   "execution_count": 50,
   "id": "decreased-hello",
   "metadata": {},
   "outputs": [],
   "source": [
    "X_train, X_test, y1_train, y1_test = train_test_split(X, y1, test_size=0.2, random_state=42)"
   ]
  },
  {
   "cell_type": "code",
   "execution_count": 51,
   "id": "close-creativity",
   "metadata": {},
   "outputs": [],
   "source": [
    "X_train, X_test, y2_train, y2_test = train_test_split(X, y2, test_size=0.2, random_state=42)"
   ]
  },
  {
   "cell_type": "code",
   "execution_count": 52,
   "id": "consistent-overall",
   "metadata": {},
   "outputs": [],
   "source": [
    "df_reg = DecisionTreeRegressor(random_state=0)"
   ]
  },
  {
   "cell_type": "code",
   "execution_count": 54,
   "id": "operating-checklist",
   "metadata": {},
   "outputs": [
    {
     "data": {
      "text/plain": [
       "DecisionTreeRegressor(random_state=0)"
      ]
     },
     "execution_count": 54,
     "metadata": {},
     "output_type": "execute_result"
    }
   ],
   "source": [
    "df_reg.fit(X_train, y1_train)"
   ]
  },
  {
   "cell_type": "code",
   "execution_count": 55,
   "id": "laden-frederick",
   "metadata": {},
   "outputs": [],
   "source": [
    "y1_pred = df_reg.predict(X_test)"
   ]
  },
  {
   "cell_type": "code",
   "execution_count": 56,
   "id": "static-angel",
   "metadata": {},
   "outputs": [
    {
     "data": {
      "text/plain": [
       "array([67.        , 24.17382199, 67.        , ..., 24.        ,\n",
       "       63.6       , 24.4       ])"
      ]
     },
     "execution_count": 56,
     "metadata": {},
     "output_type": "execute_result"
    }
   ],
   "source": [
    "y1_pred"
   ]
  },
  {
   "cell_type": "code",
   "execution_count": 57,
   "id": "subjective-glasgow",
   "metadata": {},
   "outputs": [],
   "source": [
    "from sklearn.metrics import mean_squared_error"
   ]
  },
  {
   "cell_type": "code",
   "execution_count": 58,
   "id": "excess-eight",
   "metadata": {},
   "outputs": [
    {
     "data": {
      "text/plain": [
       "22.698098897689274"
      ]
     },
     "execution_count": 58,
     "metadata": {},
     "output_type": "execute_result"
    }
   ],
   "source": [
    "mean_squared_error(y1_test, y1_pred)"
   ]
  },
  {
   "cell_type": "code",
   "execution_count": 59,
   "id": "present-spring",
   "metadata": {},
   "outputs": [
    {
     "data": {
      "text/plain": [
       "1.9577915742503142"
      ]
     },
     "execution_count": 59,
     "metadata": {},
     "output_type": "execute_result"
    }
   ],
   "source": [
    "df_reg.fit(X_train, y2_train)\n",
    "y2_pred = df_reg.predict(X_test)\n",
    "mean_squared_error(y2_test, y2_pred)"
   ]
  },
  {
   "cell_type": "code",
   "execution_count": 60,
   "id": "potential-message",
   "metadata": {},
   "outputs": [],
   "source": [
    "from sklearn.ensemble import GradientBoostingRegressor"
   ]
  },
  {
   "cell_type": "code",
   "execution_count": 70,
   "id": "spectacular-stopping",
   "metadata": {},
   "outputs": [
    {
     "name": "stderr",
     "output_type": "stream",
     "text": [
      "/Users/kalyaniasthana/opt/anaconda3/lib/python3.7/site-packages/sklearn/utils/validation.py:72: DataConversionWarning: A column-vector y was passed when a 1d array was expected. Please change the shape of y to (n_samples, ), for example using ravel().\n",
      "  return f(**kwargs)\n"
     ]
    },
    {
     "data": {
      "text/plain": [
       "22.698098897669556"
      ]
     },
     "execution_count": 70,
     "metadata": {},
     "output_type": "execute_result"
    }
   ],
   "source": [
    "gb_reg = GradientBoostingRegressor(n_estimators=5000, max_depth=25)\n",
    "gb_reg.fit(X_train, y1_train)\n",
    "y1_pred_gb = gb_reg.predict(X_test)\n",
    "mean_squared_error(y1_test, y1_pred_gb)"
   ]
  },
  {
   "cell_type": "code",
   "execution_count": 72,
   "id": "proud-visitor",
   "metadata": {},
   "outputs": [
    {
     "data": {
      "text/plain": [
       "367.700645442701"
      ]
     },
     "execution_count": 72,
     "metadata": {},
     "output_type": "execute_result"
    }
   ],
   "source": [
    "lr = LinearRegression()\n",
    "lr.fit(X_train, y1_train)\n",
    "y1_pred_lr = lr.predict(X_test)\n",
    "mean_squared_error(y1_test, y1_pred_lr)"
   ]
  },
  {
   "cell_type": "code",
   "execution_count": 73,
   "id": "speaking-wrong",
   "metadata": {},
   "outputs": [],
   "source": [
    "import xgboost as xgb"
   ]
  },
  {
   "cell_type": "code",
   "execution_count": 74,
   "id": "focal-pressing",
   "metadata": {},
   "outputs": [
    {
     "data": {
      "text/plain": [
       "22.698103990279005"
      ]
     },
     "execution_count": 74,
     "metadata": {},
     "output_type": "execute_result"
    }
   ],
   "source": [
    "xgb_reg = xgb.XGBRegressor(n_estimators=1000, max_depth=25)\n",
    "xgb_reg.fit(X_train, y1_train)\n",
    "y1_pred_gb = xgb_reg.predict(X_test)\n",
    "mean_squared_error(y1_test, y1_pred_gb)"
   ]
  },
  {
   "cell_type": "code",
   "execution_count": 75,
   "id": "located-morrison",
   "metadata": {},
   "outputs": [
    {
     "data": {
      "text/plain": [
       "array([0.17872573, 0.20969885, 0.61157542])"
      ]
     },
     "execution_count": 75,
     "metadata": {},
     "output_type": "execute_result"
    }
   ],
   "source": [
    "df_reg.feature_importances_"
   ]
  },
  {
   "cell_type": "code",
   "execution_count": null,
   "id": "casual-writing",
   "metadata": {},
   "outputs": [],
   "source": []
  }
 ],
 "metadata": {
  "kernelspec": {
   "display_name": "Python 3",
   "language": "python",
   "name": "python3"
  },
  "language_info": {
   "codemirror_mode": {
    "name": "ipython",
    "version": 3
   },
   "file_extension": ".py",
   "mimetype": "text/x-python",
   "name": "python",
   "nbconvert_exporter": "python",
   "pygments_lexer": "ipython3",
   "version": "3.7.9"
  }
 },
 "nbformat": 4,
 "nbformat_minor": 5
}
